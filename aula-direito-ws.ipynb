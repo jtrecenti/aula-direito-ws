{
 "cells": [
  {
   "cell_type": "markdown",
   "metadata": {},
   "source": [
    "## Objetivos de aprendizagem\n",
    "\n",
    "- Entender o que é web scraping e quando usar.\n",
    "- Conhecer o fluxo de trabalho para fazer web scraping.\n",
    "- Conhecer os principais tipos de problemas que podemos encontrar.\n",
    "- Conhecer as principais ferramentas para fazer web scraping.\n",
    "- Conhecer a política do web scraping.\n",
    "\n",
    "## Por que web scraping?\n",
    "\n",
    "**Tudo o que você vê na internet pode se transformar dados para analisar!**\n",
    "\n",
    "### No Direito\n",
    "\n",
    "Os dados do judiciário são **públicos**, mas não são **abertos**.\n",
    "\n",
    "Existem novas iniciativas para tornar os dados do judiciário mais abertos, como o [DataJud](https://www.cnj.jus.br/datajud), mas ainda há muito a ser feito.\n",
    "\n",
    "\n",
    "## Tipos de problemas\n",
    "\n",
    "- **APIs disponíveis**: O site fornece uma forma estruturada e documentada para acessar as páginas.\n",
    "\n",
    "- **APIs escondidas**: O site não fornece uma forma estruturada e documentada para acessar as páginas, mas internamente é alimentado por uma API não documentada, que podemos descobrir e usar.\n",
    "\n",
    "- **HTML estático**: O site não fornece uma forma estruturada de acessar as páginas, e as páginas são geradas de forma estática (carregam sem necessidade de usar um navegador).\n",
    "\n",
    "- **HTML dinâmico**: O site não fornece uma forma estruturada de acessar as páginas, e as páginas são geradas de forma dinâmica.\n",
    "\n",
    "- ...\n",
    "\n",
    "## Ferramentas\n",
    "\n",
    "- [requests](https://requests.readthedocs.io/en/master/): pacote do Python para acessar sites.\n",
    "- [Beautiful Soup](https://www.crummy.com/software/BeautifulSoup/bs4/doc/): pacote do Python para transformar arquivos html em páginas estruturadas.\n",
    "- [Selenium](https://www.selenium.dev/): ferramenta para automatizar ações em um navegador. Útil para páginas dinâmicas."
   ]
  },
  {
   "cell_type": "code",
   "execution_count": 1,
   "metadata": {},
   "outputs": [],
   "source": [
    "import requests\n",
    "from bs4 import BeautifulSoup\n",
    "\n",
    "import pandas as pd"
   ]
  },
  {
   "cell_type": "markdown",
   "metadata": {},
   "source": [
    "## Exemplo: API escondida do TJSP"
   ]
  },
  {
   "cell_type": "code",
   "execution_count": 2,
   "metadata": {},
   "outputs": [
    {
     "data": {
      "text/plain": [
       "{'codigo': '590005PV80000',\n",
       " 'classe': 'Procedimento do Juizado Especial Cível',\n",
       " 'assunto': 'Obrigações',\n",
       " 'localFisico': '',\n",
       " 'area': 'Cível',\n",
       " 'distribuicao': 'Vara do Juizado Especial Cível e Criminal - Foro de Fernandópolis',\n",
       " 'valor': 'R$         5.121,68',\n",
       " 'virtual': 'True',\n",
       " 'temCustaPendente': 'False'}"
      ]
     },
     "execution_count": 2,
     "metadata": {},
     "output_type": "execute_result"
    }
   ],
   "source": [
    "cd = '590005PV80000'\n",
    "\n",
    "u = f'https://api.tjsp.jus.br/processo/cpopg/dadosbasicos/{cd}'\n",
    "\n",
    "r = requests.post(\n",
    "  u,\n",
    "  headers = {'Content-Type': 'application/json; charset=utf-8'}\n",
    ")\n",
    "\n",
    "r.status_code\n",
    "r.json()"
   ]
  },
  {
   "cell_type": "markdown",
   "metadata": {},
   "source": [
    "## Exemplo: API escondida do TJSP"
   ]
  },
  {
   "cell_type": "code",
   "execution_count": 3,
   "metadata": {},
   "outputs": [
    {
     "data": {
      "text/plain": [
       "{'codigo': '590005PV80000',\n",
       " 'classe': 'Procedimento do Juizado Especial Cível',\n",
       " 'assunto': 'Obrigações',\n",
       " 'localFisico': '',\n",
       " 'area': 'Cível',\n",
       " 'distribuicao': 'Vara do Juizado Especial Cível e Criminal - Foro de Fernandópolis',\n",
       " 'valor': 'R$         5.121,68',\n",
       " 'virtual': 'True',\n",
       " 'temCustaPendente': 'False'}"
      ]
     },
     "execution_count": 3,
     "metadata": {},
     "output_type": "execute_result"
    }
   ],
   "source": [
    "r.json()"
   ]
  },
  {
   "cell_type": "markdown",
   "metadata": {},
   "source": [
    "# HTML\n",
    "\n",
    "## HTML\n",
    "\n",
    "- HTML (Hypertext Markup Language) é uma linguagem de marcação.\n",
    "\n",
    "- Por trás de todo site há pelo menos um arquivo `.html`.\n",
    "\n",
    "## Tags, atributos e texto\n",
    "\n",
    "- Tags (head, body, h1, p, ...) demarcam as seções e sub-seções\n",
    "\n",
    "- enquanto atributos (charset, style, ...) mudam como essas seções são renderizadas pelo navegador.\n",
    "\n",
    "## Estrutura\n",
    "\n",
    "O HTML do exemplo, na verdade, é isso aqui:\n",
    "\n",
    "## Usando o BeautifulSoup\n",
    "\n",
    "- Exemplo: coletando todas as tags `<p>` (parágrafos)"
   ]
  },
  {
   "cell_type": "code",
   "execution_count": 4,
   "metadata": {},
   "outputs": [
    {
     "name": "stdout",
     "output_type": "stream",
     "text": [
      "<!DOCTYPE html>\n",
      "<html>\n",
      " <head>\n",
      "  <meta charset=\"utf-8\"/>\n",
      "  <title>\n",
      "   Título da abinha do navegador\n",
      "  </title>\n",
      " </head>\n",
      " <body>\n",
      "  <h1>\n",
      "   Título Grande\n",
      "  </h1>\n",
      "  <h2>\n",
      "   Título um pouco menor\n",
      "  </h2>\n",
      "  <p>\n",
      "   Sou um parágrafo!\n",
      "  </p>\n",
      "  <p style=\"color: blue;\">\n",
      "   Sou um parágrafo azul.\n",
      "  </p>\n",
      " </body>\n",
      "</html>\n"
     ]
    }
   ],
   "source": [
    "# Ler o HTML\n",
    "with open(\"html_exemplo.html\", encoding=\"utf8\") as f:\n",
    "  html = BeautifulSoup(f)\n",
    "\n",
    "# Imprimir o HTML\n",
    "print(html.prettify())"
   ]
  },
  {
   "cell_type": "markdown",
   "metadata": {},
   "source": [
    "## Usando o BeautifulSoup\n",
    "\n",
    "- Exemplo: coletando todas as tags `<p>` (parágrafos)"
   ]
  },
  {
   "cell_type": "code",
   "execution_count": 5,
   "metadata": {},
   "outputs": [
    {
     "data": {
      "text/plain": [
       "[<p>Sou um parágrafo!</p>, <p style=\"color: blue;\">Sou um parágrafo azul.</p>]"
      ]
     },
     "execution_count": 5,
     "metadata": {},
     "output_type": "execute_result"
    }
   ],
   "source": [
    "# Extrair o texto contido em cada um dos nodes\n",
    "html.find_all('p')"
   ]
  },
  {
   "cell_type": "markdown",
   "metadata": {},
   "source": [
    "## Extraindo texto e atributos"
   ]
  },
  {
   "cell_type": "code",
   "execution_count": 6,
   "metadata": {},
   "outputs": [
    {
     "data": {
      "text/plain": [
       "{'style': 'color: blue;'}"
      ]
     },
     "execution_count": 6,
     "metadata": {},
     "output_type": "execute_result"
    }
   ],
   "source": [
    "# Extrair o texto contido em cada um dos nodes\n",
    "html.p.text\n",
    "html.find_all('p')[0].text\n",
    "\n",
    "# Extrair os atributos\n",
    "html.find_all('p')[0].attrs\n",
    "html.find_all('p')[1].attrs"
   ]
  },
  {
   "cell_type": "markdown",
   "metadata": {},
   "source": [
    "## Aplicação: Descobrindo o Código do Processo!"
   ]
  },
  {
   "cell_type": "code",
   "execution_count": 7,
   "metadata": {
    "output-location": "slide"
   },
   "outputs": [],
   "source": [
    "with open(\"cpopg.html\", encoding=\"utf8\") as f:\n",
    "  html_cpopg = BeautifulSoup(f)\n",
    "\n",
    "# tr with class='fundocinza1'\n",
    "trs = html_cpopg.find_all('tr', {'class': 'fundocinza1'})\n",
    "\n",
    "links = [tr.a for tr in trs]\n",
    "codigos = [link.attrs['name'][0:13] for link in links]"
   ]
  },
  {
   "cell_type": "markdown",
   "metadata": {},
   "source": [
    "## Aplicação: Iterar! {.smaller}"
   ]
  },
  {
   "cell_type": "code",
   "execution_count": 8,
   "metadata": {
    "output-location": "slide",
    "results": "asis"
   },
   "outputs": [
    {
     "data": {
      "text/html": [
       "<div>\n",
       "<style scoped>\n",
       "    .dataframe tbody tr th:only-of-type {\n",
       "        vertical-align: middle;\n",
       "    }\n",
       "\n",
       "    .dataframe tbody tr th {\n",
       "        vertical-align: top;\n",
       "    }\n",
       "\n",
       "    .dataframe thead th {\n",
       "        text-align: right;\n",
       "    }\n",
       "</style>\n",
       "<table border=\"1\" class=\"dataframe\">\n",
       "  <thead>\n",
       "    <tr style=\"text-align: right;\">\n",
       "      <th></th>\n",
       "      <th>codigo</th>\n",
       "      <th>classe</th>\n",
       "      <th>assunto</th>\n",
       "      <th>localFisico</th>\n",
       "      <th>area</th>\n",
       "      <th>distribuicao</th>\n",
       "      <th>valor</th>\n",
       "      <th>virtual</th>\n",
       "      <th>temCustaPendente</th>\n",
       "    </tr>\n",
       "  </thead>\n",
       "  <tbody>\n",
       "    <tr>\n",
       "      <th>0</th>\n",
       "      <td>590005PV80000</td>\n",
       "      <td>Procedimento do Juizado Especial Cível</td>\n",
       "      <td>Obrigações</td>\n",
       "      <td></td>\n",
       "      <td>Cível</td>\n",
       "      <td>Vara do Juizado Especial Cível e Criminal - Fo...</td>\n",
       "      <td>R$         5.121,68</td>\n",
       "      <td>True</td>\n",
       "      <td>False</td>\n",
       "    </tr>\n",
       "    <tr>\n",
       "      <th>1</th>\n",
       "      <td>0G00095UP0000</td>\n",
       "      <td>Procedimento do Juizado Especial Cível</td>\n",
       "      <td>Indenização por Dano Material</td>\n",
       "      <td></td>\n",
       "      <td>Cível</td>\n",
       "      <td>2ª Vara do Juizado Especial Cível - Vergueiro ...</td>\n",
       "      <td>R$         11.000,00</td>\n",
       "      <td>True</td>\n",
       "      <td>False</td>\n",
       "    </tr>\n",
       "    <tr>\n",
       "      <th>2</th>\n",
       "      <td>2S001OAHW0000</td>\n",
       "      <td>Procedimento Comum Cível</td>\n",
       "      <td>Sustação de Protesto</td>\n",
       "      <td></td>\n",
       "      <td>Cível</td>\n",
       "      <td>38ª Vara Cível - Foro Central Cível</td>\n",
       "      <td>R$         33.968,14</td>\n",
       "      <td>True</td>\n",
       "      <td>False</td>\n",
       "    </tr>\n",
       "    <tr>\n",
       "      <th>3</th>\n",
       "      <td>7Y0009WMF0000</td>\n",
       "      <td>Procedimento Comum Cível</td>\n",
       "      <td>Perdas e Danos</td>\n",
       "      <td></td>\n",
       "      <td>Cível</td>\n",
       "      <td>3ª Vara Cível - Foro de Itu</td>\n",
       "      <td>R$         16.949,89</td>\n",
       "      <td>True</td>\n",
       "      <td>False</td>\n",
       "    </tr>\n",
       "    <tr>\n",
       "      <th>4</th>\n",
       "      <td>0G0009UX40000</td>\n",
       "      <td>Procedimento do Juizado Especial Cível</td>\n",
       "      <td>Indenização por Dano Moral</td>\n",
       "      <td></td>\n",
       "      <td>Cível</td>\n",
       "      <td>Juizado Especial Cível Anexo Mackenzie - Foro ...</td>\n",
       "      <td>R$         16.829,26</td>\n",
       "      <td>True</td>\n",
       "      <td>False</td>\n",
       "    </tr>\n",
       "  </tbody>\n",
       "</table>\n",
       "</div>"
      ],
      "text/plain": [
       "          codigo                                  classe  \\\n",
       "0  590005PV80000  Procedimento do Juizado Especial Cível   \n",
       "1  0G00095UP0000  Procedimento do Juizado Especial Cível   \n",
       "2  2S001OAHW0000                Procedimento Comum Cível   \n",
       "3  7Y0009WMF0000                Procedimento Comum Cível   \n",
       "4  0G0009UX40000  Procedimento do Juizado Especial Cível   \n",
       "\n",
       "                         assunto localFisico   area  \\\n",
       "0                     Obrigações              Cível   \n",
       "1  Indenização por Dano Material              Cível   \n",
       "2           Sustação de Protesto              Cível   \n",
       "3                 Perdas e Danos              Cível   \n",
       "4     Indenização por Dano Moral              Cível   \n",
       "\n",
       "                                        distribuicao                 valor  \\\n",
       "0  Vara do Juizado Especial Cível e Criminal - Fo...   R$         5.121,68   \n",
       "1  2ª Vara do Juizado Especial Cível - Vergueiro ...  R$         11.000,00   \n",
       "2                38ª Vara Cível - Foro Central Cível  R$         33.968,14   \n",
       "3                        3ª Vara Cível - Foro de Itu  R$         16.949,89   \n",
       "4  Juizado Especial Cível Anexo Mackenzie - Foro ...  R$         16.829,26   \n",
       "\n",
       "  virtual temCustaPendente  \n",
       "0    True            False  \n",
       "1    True            False  \n",
       "2    True            False  \n",
       "3    True            False  \n",
       "4    True            False  "
      ]
     },
     "execution_count": 8,
     "metadata": {},
     "output_type": "execute_result"
    }
   ],
   "source": [
    "# read data and transform to dataframe\n",
    "lista = []\n",
    "for cd in codigos:\n",
    "  u_base = f'https://api.tjsp.jus.br/processo/cpopg/dadosbasicos/{cd}'\n",
    "  r = requests.post(\n",
    "    u_base,\n",
    "    headers = {'Content-Type': 'application/json; charset=utf-8'}\n",
    "  )\n",
    "  lista.append(r.json())\n",
    "\n",
    "da = pd.DataFrame(lista)\n",
    "\n",
    "da.head()"
   ]
  },
  {
   "cell_type": "markdown",
   "metadata": {},
   "source": [
    "## Política do web scraping\n",
    "\n",
    "### Quando usar\n",
    "\n",
    "- Quando precisamos coletar um volume grande de dados da internet\n",
    "\n",
    "### Quando não usar\n",
    "\n",
    "- Existem formas mais simples de obter os dados (API, base de dados, etc.)\n",
    "\n",
    "- Os termos de uso do site não nos permitem fazer isso.\n",
    "\n",
    "- As informações do site não são públicas.\n",
    "\n",
    "## Cuidados\n",
    "\n",
    "- Risco de derrubar ou comprometer a estabilidade do site.\n",
    "\n",
    "- Vale à pena conversar com a entidade detentora dos dados.\n",
    "\n",
    "## Resumo\n",
    "\n",
    "- Web scraping é uma técnica para coletar dados de sites.\n",
    "- Existe um fluxo para fazer web scraping.\n",
    "- Existem 4 tipos principais 'níveis' de dificuldade, sendo que o primeiro deles não é considerado web scraping.\n",
    "- Existem várias ferramentas para fazer web scraping. Em python, as principais são requests, beautiful soup e selenium.\n",
    "- É importante conhecer a política do site para fazer web scraping.\n",
    "\n",
    "## Curiosidade: como eu descobri essa API escondida?\n",
    "\n",
    "Longa história, mas basicamente:\n",
    "\n",
    "- instalei o aplicativo do TJSP no celular\n",
    "- usei o aplicativo tPacketCapture para interceptar as requisições do aplicativo\n",
    "- descobri que o aplicativo usa uma API escondida para buscar os processos\n",
    "- descobri que a API escondida usa o mesmo código do processo que aparece na URL do site\n",
    "- descobri que a API escondida retorna os dados do processo em formato JSON"
   ]
  }
 ],
 "metadata": {
  "kernelspec": {
   "display_name": "Python 3 (ipykernel)",
   "language": "python",
   "name": "python3"
  },
  "language_info": {
   "codemirror_mode": {
    "name": "ipython",
    "version": 3
   },
   "file_extension": ".py",
   "mimetype": "text/x-python",
   "name": "python",
   "nbconvert_exporter": "python",
   "pygments_lexer": "ipython3",
   "version": "3.9.12"
  }
 },
 "nbformat": 4,
 "nbformat_minor": 4
}
